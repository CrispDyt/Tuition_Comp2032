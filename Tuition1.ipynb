{
 "cells": [
  {
   "cell_type": "markdown",
   "id": "99544e06-8b75-44a6-ad0e-76c6a34273c5",
   "metadata": {},
   "source": [
    "# Tuition 1   \n",
    "## Tutor: Chris D\n",
    "## E-mail: C.Duan@westernsydney.edu.au"
   ]
  },
  {
   "cell_type": "markdown",
   "id": "eb0ae8a6-c369-48eb-ac06-9192f7413f45",
   "metadata": {},
   "source": [
    "## Section 1: Basic Python"
   ]
  },
  {
   "cell_type": "markdown",
   "id": "0ba37daf-ef8b-43fa-9505-5a10c3d86fa3",
   "metadata": {},
   "source": [
    "### (Strongly!!!) Recommend Learning Course for Python Programming: \n",
    "### berkeley CS61a   \n",
    "### Web: https://cs61a.org/   \n",
    "### (Strongly!!!) Recommend Reference book for Machine Learning: \n",
    "### << Probabilitic Machine Learning : An Introduction \\>>\n",
    "### Web: https://probml.github.io/pml-book/book1.html"
   ]
  },
  {
   "cell_type": "markdown",
   "id": "d7883770-e810-461f-97e3-5602c727d276",
   "metadata": {},
   "source": [
    "### First Part\n",
    "### Python Variables  "
   ]
  },
  {
   "cell_type": "markdown",
   "id": "d24997f0-34f4-4029-99c7-a484baffb90b",
   "metadata": {},
   "source": [
    "#### Variables are containers for storing data values. They are created when you assign a value to them. \n",
    "#### E.g: a = 5. \n",
    "#### Variables can contain letters, numbers, and underscores. \n",
    "#### Notice: Variables cannot start with a number and cannot use Python keywords.  (What is Python keywords, please search it !!!! ) "
   ]
  },
  {
   "cell_type": "markdown",
   "id": "629a9aee-0fa0-4cc8-b72a-dacb4511ed00",
   "metadata": {},
   "source": [
    "#### Legal Examples:"
   ]
  },
  {
   "cell_type": "code",
   "execution_count": 35,
   "id": "8af674b5-1edd-481b-a7b7-0d836d2725e5",
   "metadata": {},
   "outputs": [],
   "source": [
    "name = \"Chris\"\n",
    "age = 25 \n",
    "school = \"Western_Sydney_University\" "
   ]
  },
  {
   "cell_type": "markdown",
   "id": "ef0ba844-00d2-484e-843b-1ab2a97148f6",
   "metadata": {},
   "source": [
    "#### Type"
   ]
  },
  {
   "cell_type": "markdown",
   "id": "39e9b5f7-840c-4926-9bdf-6f3ff5ce7f34",
   "metadata": {},
   "source": [
    "#### Integer "
   ]
  },
  {
   "cell_type": "code",
   "execution_count": 63,
   "id": "dd954ee3-a63b-4ad1-adff-5bd902797541",
   "metadata": {},
   "outputs": [],
   "source": [
    "a = 5 \n",
    "b = 1 \n",
    "c = 12"
   ]
  },
  {
   "cell_type": "markdown",
   "id": "8738c55b-1c75-4cb7-9d0e-641cf67754c6",
   "metadata": {},
   "source": [
    "#### Float "
   ]
  },
  {
   "cell_type": "code",
   "execution_count": 66,
   "id": "726afa34-0fab-4af3-8477-0c0f37bca92c",
   "metadata": {},
   "outputs": [],
   "source": [
    "a = 1.1 \n",
    "b = 1.2 "
   ]
  },
  {
   "cell_type": "code",
   "execution_count": 70,
   "id": "793fa506-b64e-4956-9b6f-56b852d1c4ca",
   "metadata": {},
   "outputs": [
    {
     "data": {
      "text/plain": [
       "float"
      ]
     },
     "execution_count": 70,
     "metadata": {},
     "output_type": "execute_result"
    }
   ],
   "source": [
    "type(a)"
   ]
  },
  {
   "cell_type": "code",
   "execution_count": 74,
   "id": "52c7c9c5-9aca-4279-9a3d-e3b6cea2cee7",
   "metadata": {},
   "outputs": [
    {
     "data": {
      "text/plain": [
       "1"
      ]
     },
     "execution_count": 74,
     "metadata": {},
     "output_type": "execute_result"
    }
   ],
   "source": [
    "# Operations \n",
    "round(a)"
   ]
  },
  {
   "cell_type": "markdown",
   "id": "1c1af8e6-7ee2-452a-a2fe-423e5823df9a",
   "metadata": {},
   "source": [
    "#### String"
   ]
  },
  {
   "cell_type": "code",
   "execution_count": 83,
   "id": "138317b6-bad3-451f-8210-0e0ae24344f7",
   "metadata": {},
   "outputs": [
    {
     "data": {
      "text/plain": [
       "str"
      ]
     },
     "execution_count": 83,
     "metadata": {},
     "output_type": "execute_result"
    }
   ],
   "source": [
    "message = \"abcdefg\" \n",
    "type(message) "
   ]
  },
  {
   "cell_type": "code",
   "execution_count": 109,
   "id": "33893d4d-1f10-4ce7-9a1c-fd43590d5c93",
   "metadata": {},
   "outputs": [
    {
     "name": "stdout",
     "output_type": "stream",
     "text": [
      "hello Chris\n",
      "hello hello hello \n",
      "4\n"
     ]
    }
   ],
   "source": [
    "# operation for string  \n",
    "print(\"hello\" + \" \" + \"Chris\")\n",
    "print(\"hello \"*3) \n",
    "print(len(\"qwe \"))"
   ]
  },
  {
   "cell_type": "code",
   "execution_count": 134,
   "id": "a8f89527-ad81-4ad7-8477-62a7c2079996",
   "metadata": {},
   "outputs": [
    {
     "name": "stdout",
     "output_type": "stream",
     "text": [
      "My name is Chris, I am 25 years old!\n"
     ]
    }
   ],
   "source": [
    "# String Formatting \n",
    "name = \"Chris\" \n",
    "age = 25\n",
    "formatted = f\"My name is {name}, I am {age} years old!\" \n",
    "print(formatted) "
   ]
  },
  {
   "cell_type": "markdown",
   "id": "94932d55-cdf9-41bd-974b-a5f3a8fe6d33",
   "metadata": {},
   "source": [
    "#### Boolean Type"
   ]
  },
  {
   "cell_type": "code",
   "execution_count": 140,
   "id": "81edaded-4c7f-4d8a-aa5e-417a947ab773",
   "metadata": {},
   "outputs": [
    {
     "name": "stdout",
     "output_type": "stream",
     "text": [
      "True\n"
     ]
    }
   ],
   "source": [
    "print(5>3)"
   ]
  },
  {
   "cell_type": "markdown",
   "id": "bd67eb61-30d1-4947-a002-73f671bb1b4c",
   "metadata": {},
   "source": [
    "#### Collection Type\n",
    "#### Lists - ordered, mutable collections "
   ]
  },
  {
   "cell_type": "code",
   "execution_count": 202,
   "id": "0d8b5d61-d8c1-458a-ad16-0f180be7e235",
   "metadata": {},
   "outputs": [],
   "source": [
    "## Sign: Starts with [ and ends as ] \n",
    "numbers = [1, 2, 3, 4, 5] \n",
    "a = [\"qwe\", 12, True] "
   ]
  },
  {
   "cell_type": "code",
   "execution_count": 204,
   "id": "ee0111cc-4ee3-4356-8ae2-007a9fad9d8e",
   "metadata": {},
   "outputs": [
    {
     "name": "stdout",
     "output_type": "stream",
     "text": [
      "[1, 2, 3, 4, 5, 10]\n"
     ]
    }
   ],
   "source": [
    "## Operations \n",
    "numbers.append(10)\n",
    "print(numbers)"
   ]
  },
  {
   "cell_type": "code",
   "execution_count": 206,
   "id": "88b26eea-8f66-461c-81e6-861a76ce8862",
   "metadata": {},
   "outputs": [],
   "source": [
    "numbers.insert(1, 100) \n",
    "# 1 refers to the position \n",
    "# Notice! In python, the number of array starts from 0 !!! "
   ]
  },
  {
   "cell_type": "code",
   "execution_count": 208,
   "id": "5159dc6a-a4c2-4ee4-8efe-f5c9ad156cf9",
   "metadata": {},
   "outputs": [
    {
     "data": {
      "text/plain": [
       "[1, 100, 2, 3, 4, 5, 10]"
      ]
     },
     "execution_count": 208,
     "metadata": {},
     "output_type": "execute_result"
    }
   ],
   "source": [
    "numbers"
   ]
  },
  {
   "cell_type": "code",
   "execution_count": 210,
   "id": "144214b4-9b90-404e-838b-481b90daa3bd",
   "metadata": {},
   "outputs": [],
   "source": [
    "numbers.remove(10)"
   ]
  },
  {
   "cell_type": "code",
   "execution_count": 212,
   "id": "a3db813b-3b4e-49fb-ab2e-97e899a32b27",
   "metadata": {},
   "outputs": [
    {
     "data": {
      "text/plain": [
       "[1, 100, 2, 3, 4, 5]"
      ]
     },
     "execution_count": 212,
     "metadata": {},
     "output_type": "execute_result"
    }
   ],
   "source": [
    "numbers"
   ]
  },
  {
   "cell_type": "code",
   "execution_count": 214,
   "id": "9ca586bc-9eaf-4f5c-96e3-11496fda8cee",
   "metadata": {},
   "outputs": [
    {
     "name": "stdout",
     "output_type": "stream",
     "text": [
      "1\n",
      "5\n",
      "[100, 2]\n",
      "[2, 3, 4, 5]\n"
     ]
    }
   ],
   "source": [
    "## Important !!!\n",
    "## Slicing and Indexing for array \n",
    "print(numbers[0]) ## First item\n",
    "print(numbers[-1]) ## Last one\n",
    "print(numbers[1:3]) ## Items from 1 to 2 !!! Notice the last one 3 is not contained \n",
    "print(numbers[2:]) ## Items from 2 to end "
   ]
  },
  {
   "cell_type": "code",
   "execution_count": 226,
   "id": "84667a5d-044f-44fe-9a0b-bbfbf48cc431",
   "metadata": {},
   "outputs": [],
   "source": [
    "# Tuple \n",
    "## The main difference between tuple and list is that you can not change the items of tuple. \n",
    "a = (1,2,3,4)\n",
    "## Wrong case:  a[1] = 10 \n",
    "## Less memory cost, creating faster, accessing faster, better performance!"
   ]
  },
  {
   "cell_type": "code",
   "execution_count": 228,
   "id": "6a070101-2548-44ed-824b-cb0c800f50c1",
   "metadata": {},
   "outputs": [],
   "source": [
    "# Dictionary \n",
    "student = {\n",
    "    \"name\": \"Chris\",\n",
    "    \"age\": 25,\n",
    "    \"major\": \"Computer Science\",\n",
    "    \"school\": \"CDMS\"\n",
    "} "
   ]
  },
  {
   "cell_type": "code",
   "execution_count": 232,
   "id": "c12facb7-48cc-48aa-994b-f2c5ed8aefb2",
   "metadata": {},
   "outputs": [
    {
     "name": "stdout",
     "output_type": "stream",
     "text": [
      "Chris\n"
     ]
    }
   ],
   "source": [
    "print(student[\"name\"])"
   ]
  },
  {
   "cell_type": "code",
   "execution_count": 234,
   "id": "a318da2e-6518-43fa-b9da-2f5fc31c3a94",
   "metadata": {},
   "outputs": [],
   "source": [
    "del student[\"school\"] "
   ]
  },
  {
   "cell_type": "code",
   "execution_count": 238,
   "id": "8e727c12-a16a-4c9d-b8eb-8f5cd3f1ce99",
   "metadata": {},
   "outputs": [],
   "source": [
    "student['sex'] = \"male\""
   ]
  },
  {
   "cell_type": "code",
   "execution_count": 240,
   "id": "4cd66448-cb65-41df-ba92-e8dc96f3e620",
   "metadata": {},
   "outputs": [
    {
     "data": {
      "text/plain": [
       "{'name': 'Chris', 'age': 25, 'major': 'Computer Science', 'sex': 'male'}"
      ]
     },
     "execution_count": 240,
     "metadata": {},
     "output_type": "execute_result"
    }
   ],
   "source": [
    "student"
   ]
  },
  {
   "cell_type": "code",
   "execution_count": 244,
   "id": "4291e640-2fd5-4171-b7ff-53dcadd76324",
   "metadata": {},
   "outputs": [
    {
     "data": {
      "text/plain": [
       "{'name': 'Chris', 'age': 25, 'major': 'Mathematics', 'sex': 'male'}"
      ]
     },
     "execution_count": 244,
     "metadata": {},
     "output_type": "execute_result"
    }
   ],
   "source": [
    "student['major'] = \"Mathematics\" \n",
    "student"
   ]
  },
  {
   "cell_type": "code",
   "execution_count": 246,
   "id": "332da9fd-fd33-49d9-8fb8-f72c9a00b4ef",
   "metadata": {},
   "outputs": [
    {
     "name": "stdout",
     "output_type": "stream",
     "text": [
      "dict_keys(['name', 'age', 'major', 'sex'])\n"
     ]
    }
   ],
   "source": [
    "print(student.keys())  "
   ]
  },
  {
   "cell_type": "code",
   "execution_count": 248,
   "id": "9fbc7ceb-b438-43b5-ba44-49b9ea7e6689",
   "metadata": {},
   "outputs": [
    {
     "name": "stdout",
     "output_type": "stream",
     "text": [
      "dict_values(['Chris', 25, 'Mathematics', 'male'])\n"
     ]
    }
   ],
   "source": [
    "print(student.values())"
   ]
  },
  {
   "cell_type": "code",
   "execution_count": 252,
   "id": "d671d3d8-f396-424f-a6f7-6495f27b3e49",
   "metadata": {},
   "outputs": [
    {
     "name": "stdout",
     "output_type": "stream",
     "text": [
      "dict_items([('name', 'Chris'), ('age', 25), ('major', 'Mathematics'), ('sex', 'male')])\n"
     ]
    }
   ],
   "source": [
    "# Get key-value pairs\n",
    "print(student.items())"
   ]
  },
  {
   "cell_type": "markdown",
   "id": "c0d557f7-09ec-4dca-8cad-ce13d552045a",
   "metadata": {},
   "source": [
    "### Second Part \n",
    "### Control Structures"
   ]
  },
  {
   "cell_type": "markdown",
   "id": "692f3283-3fca-4523-ae9b-532ddc027d1c",
   "metadata": {},
   "source": [
    "####  if-elif-else "
   ]
  },
  {
   "cell_type": "code",
   "execution_count": 258,
   "id": "412dbdae-7b60-4045-bdfa-f32d31444720",
   "metadata": {},
   "outputs": [],
   "source": [
    "# Basic Example \n",
    "score = 85\n",
    "\n",
    "if score >= 90:\n",
    "    grade = \"A\"\n",
    "elif score >= 80:\n",
    "    grade = \"B\"\n",
    "elif score >= 70:\n",
    "    grade = \"C\"\n",
    "elif score >= 60:\n",
    "    grade = \"D\"\n",
    "else:\n",
    "    grade = \"F\""
   ]
  },
  {
   "cell_type": "code",
   "execution_count": 260,
   "id": "b8a2f2d3-42ec-4192-bebf-874eb0b5e165",
   "metadata": {},
   "outputs": [
    {
     "data": {
      "text/plain": [
       "'B'"
      ]
     },
     "execution_count": 260,
     "metadata": {},
     "output_type": "execute_result"
    }
   ],
   "source": [
    "grade "
   ]
  },
  {
   "cell_type": "code",
   "execution_count": 262,
   "id": "5e05ac79-d11b-4924-af00-60f60166a854",
   "metadata": {},
   "outputs": [
    {
     "name": "stdout",
     "output_type": "stream",
     "text": [
      "Can drive but needs a car\n"
     ]
    }
   ],
   "source": [
    "## A little bit complex case \n",
    "## Nested Case \n",
    "age = 20\n",
    "has_license = True\n",
    "has_car = False\n",
    "\n",
    "if age >= 18 and has_license:\n",
    "    if has_car:\n",
    "        print(\"Can drive own car\")\n",
    "    else:\n",
    "        print(\"Can drive but needs a car\")\n",
    "elif age >= 16:\n",
    "    print(\"Can get a learner's permit\")\n",
    "else:\n",
    "    print(\"Too young to drive\")"
   ]
  },
  {
   "cell_type": "code",
   "execution_count": 274,
   "id": "9b37ab09-2118-43da-bafd-447c367aab64",
   "metadata": {},
   "outputs": [
    {
     "name": "stdout",
     "output_type": "stream",
     "text": [
      "1\n",
      "2\n",
      "3\n",
      "4\n",
      "5\n",
      "***********************************\n",
      "1\n",
      "2\n",
      "3\n",
      "4\n",
      "5\n"
     ]
    }
   ],
   "source": [
    "## Loop  \n",
    "numbers = [1,2,3,4,5]\n",
    "for i in numbers:\n",
    "    print(i)\n",
    "print(\"***********************************\")\n",
    "for i in range(len(numbers)):   # from 0 to 4 \n",
    "    print(i + 1)"
   ]
  },
  {
   "cell_type": "code",
   "execution_count": 276,
   "id": "cfc01e43-86a2-4c83-865a-828d00961823",
   "metadata": {},
   "outputs": [
    {
     "name": "stdout",
     "output_type": "stream",
     "text": [
      "name\n",
      "age\n",
      "major\n",
      "school\n"
     ]
    }
   ],
   "source": [
    "## Interation for dictionary\n",
    "student = {\n",
    "    \"name\": \"Chris\",\n",
    "    \"age\": 25,\n",
    "    \"major\": \"Computer Science\",\n",
    "    \"school\": \"CDMS\"\n",
    "} \n",
    "for key in student:\n",
    "    print(key)"
   ]
  },
  {
   "cell_type": "code",
   "execution_count": 290,
   "id": "a4678e30-58f2-4f93-ab04-de058dee288f",
   "metadata": {},
   "outputs": [
    {
     "name": "stdout",
     "output_type": "stream",
     "text": [
      "name: Chris\n",
      "age: 25\n",
      "major: Computer Science\n",
      "school: CDMS\n"
     ]
    }
   ],
   "source": [
    "for key,value in student.items():\n",
    "    print(f\"{key}: {value}\")"
   ]
  },
  {
   "cell_type": "code",
   "execution_count": 292,
   "id": "c2c5242e-2ae4-40ae-a179-5d60b4d3211a",
   "metadata": {},
   "outputs": [
    {
     "name": "stdout",
     "output_type": "stream",
     "text": [
      "0\n",
      "1\n",
      "2\n",
      "3\n",
      "4\n"
     ]
    }
   ],
   "source": [
    "## Loop\n",
    "count = 0\n",
    "while count < 5:\n",
    "    print(count)\n",
    "    count += 1"
   ]
  },
  {
   "cell_type": "code",
   "execution_count": 294,
   "id": "3a089a45-09fa-4d3b-bf2c-5f8dd57d9307",
   "metadata": {},
   "outputs": [
    {
     "name": "stdout",
     "output_type": "stream",
     "text": [
      "0\n",
      "1\n",
      "2\n",
      "4\n",
      "5\n",
      "6\n"
     ]
    }
   ],
   "source": [
    "## Loop Control \n",
    "for i in range(10):\n",
    "    if i == 3:\n",
    "        continue  # Skip current iteration\n",
    "    if i == 7:\n",
    "        break     # Exit loop\n",
    "    print(i)"
   ]
  },
  {
   "cell_type": "markdown",
   "id": "8b7426f5-1d74-4b8a-8a81-68d137c5144a",
   "metadata": {},
   "source": [
    "#### Function "
   ]
  },
  {
   "cell_type": "code",
   "execution_count": 297,
   "id": "154a9206-7d98-47f1-8224-19b486fe5dda",
   "metadata": {},
   "outputs": [],
   "source": [
    "# Simple function\n",
    "def greet(name):\n",
    "    return f\"Hello,  I am {name}!\""
   ]
  },
  {
   "cell_type": "code",
   "execution_count": 307,
   "id": "f3bca7f9-62f3-4e93-a3e1-8393c089ab55",
   "metadata": {},
   "outputs": [
    {
     "data": {
      "text/plain": [
       "'Hello,  I am Chris!'"
      ]
     },
     "execution_count": 307,
     "metadata": {},
     "output_type": "execute_result"
    }
   ],
   "source": [
    "greet(\"Chris\")"
   ]
  },
  {
   "cell_type": "code",
   "execution_count": 313,
   "id": "6a0743f5-7db1-4095-926c-4152bd659107",
   "metadata": {},
   "outputs": [],
   "source": [
    "# Function call\n",
    "a = greet"
   ]
  },
  {
   "cell_type": "code",
   "execution_count": 319,
   "id": "30d5033b-085a-409a-bd12-38657dc2c2ab",
   "metadata": {},
   "outputs": [],
   "source": [
    "# Function Parameters\n",
    "def introduce(name, age=25, city=\"Sydney\"):\n",
    "    return f\"I'm {name}, {age} years old, from {city}\" "
   ]
  },
  {
   "cell_type": "code",
   "execution_count": 321,
   "id": "91354c4c-8100-4f50-a538-04b271cf6521",
   "metadata": {},
   "outputs": [
    {
     "data": {
      "text/plain": [
       "\"I'm Chris, 25 years old, from Sydney\""
      ]
     },
     "execution_count": 321,
     "metadata": {},
     "output_type": "execute_result"
    }
   ],
   "source": [
    "introduce(name = \"Chris\")"
   ]
  },
  {
   "cell_type": "code",
   "execution_count": 325,
   "id": "c9af9ad4-5c02-482d-b619-0f16fa0ef48d",
   "metadata": {},
   "outputs": [
    {
     "data": {
      "text/plain": [
       "\"I'm Chris, 125 years old, from Sydney\""
      ]
     },
     "execution_count": 325,
     "metadata": {},
     "output_type": "execute_result"
    }
   ],
   "source": [
    "introduce(name = \"Chris\", age = 125)"
   ]
  },
  {
   "cell_type": "code",
   "execution_count": 329,
   "id": "7525bac9-0fcf-4aef-bb42-e730f04f427d",
   "metadata": {},
   "outputs": [
    {
     "data": {
      "text/plain": [
       "\"I'm Chris, 25 years old, from Parramatta\""
      ]
     },
     "execution_count": 329,
     "metadata": {},
     "output_type": "execute_result"
    }
   ],
   "source": [
    "introduce(name = \"Chris\", city = \"Parramatta\")"
   ]
  },
  {
   "cell_type": "code",
   "execution_count": 333,
   "id": "ba06c7ec-6bcf-4db3-acb4-2ffbe3f2109f",
   "metadata": {},
   "outputs": [
    {
     "data": {
      "text/plain": [
       "\"I'm Chris, 25 years old, from Parramatta\""
      ]
     },
     "execution_count": 333,
     "metadata": {},
     "output_type": "execute_result"
    }
   ],
   "source": [
    "introduce(name = \"Chris\", age = 25, city = \"Parramatta\")"
   ]
  },
  {
   "cell_type": "code",
   "execution_count": 337,
   "id": "8f68727b-f2d4-4e9f-b9e5-27ad38787470",
   "metadata": {},
   "outputs": [],
   "source": [
    "## Motivation: How about the number of parameters is changed?\n",
    "## Here we need to use the variable argument mechanism  \n",
    "def all(*args):\n",
    "    '''\n",
    "    receive any number of parameters, and add them\n",
    "    '''\n",
    "    total = 0\n",
    "    for num in args:\n",
    "        total += num\n",
    "    return total"
   ]
  },
  {
   "cell_type": "code",
   "execution_count": 345,
   "id": "b3f92e87-454a-4cdb-b753-943a7115a4e5",
   "metadata": {},
   "outputs": [
    {
     "data": {
      "text/plain": [
       "6"
      ]
     },
     "execution_count": 345,
     "metadata": {},
     "output_type": "execute_result"
    }
   ],
   "source": [
    "all(1,2,3)"
   ]
  },
  {
   "cell_type": "code",
   "execution_count": 347,
   "id": "f0ef9289-0f1b-4c11-aa88-ae658bb6b27d",
   "metadata": {},
   "outputs": [
    {
     "data": {
      "text/plain": [
       "21"
      ]
     },
     "execution_count": 347,
     "metadata": {},
     "output_type": "execute_result"
    }
   ],
   "source": [
    "all(1,2,3,4,5,6)"
   ]
  },
  {
   "cell_type": "code",
   "execution_count": 349,
   "id": "5bda2cb4-a215-490c-b857-63a7bbd8a3e8",
   "metadata": {},
   "outputs": [
    {
     "name": "stdout",
     "output_type": "stream",
     "text": [
      "name: Alice\n",
      "age: 25\n",
      "major: Computer Science\n"
     ]
    }
   ],
   "source": [
    "### **kwargs: Receive all parameters and put them into a dictionary \n",
    "def examples(**kwargs):\n",
    "    for key, value in kwargs.items():\n",
    "        print(f\"{key}: {value}\")\n",
    "examples(name=\"Alice\", age=25, major=\"Computer Science\")"
   ]
  },
  {
   "cell_type": "code",
   "execution_count": 352,
   "id": "3e3e3589-b2bc-4c0c-a764-89c1867bf5eb",
   "metadata": {},
   "outputs": [],
   "source": [
    "### Third Part \n",
    "### Numpy and Pandas"
   ]
  },
  {
   "cell_type": "code",
   "execution_count": 354,
   "id": "44b789a8-cf7c-4415-9395-f82786d8e668",
   "metadata": {},
   "outputs": [],
   "source": [
    "import numpy as np"
   ]
  },
  {
   "cell_type": "code",
   "execution_count": 356,
   "id": "a8cee746-7289-49c2-8811-f115370b56a5",
   "metadata": {},
   "outputs": [],
   "source": [
    "import pandas as pd "
   ]
  },
  {
   "cell_type": "code",
   "execution_count": 358,
   "id": "75f96550-ad64-43c2-86dd-b5234453d7bd",
   "metadata": {},
   "outputs": [],
   "source": [
    "a = np.array([1, 2, 3, 4, 5])\n",
    "b = np.array([[1, 2, 3], [4, 5, 6]])"
   ]
  },
  {
   "cell_type": "code",
   "execution_count": 364,
   "id": "c2c0ac5f-bf1f-4a11-bf3b-39748d87447e",
   "metadata": {},
   "outputs": [],
   "source": [
    "# Normal Special Arrays\n",
    "zeros = np.zeros((3, 4))         \n",
    "ones = np.ones((2, 3))          \n",
    "full = np.full((2, 2), 7)      \n",
    "identity = np.eye(3)              \n",
    "random_arr = np.random.random((2, 3)) \n",
    "\n",
    "# Creating sequences\n",
    "range_array = np.arange(0, 10, 2)  \n",
    "linspace = np.linspace(0, 1, 5)    "
   ]
  },
  {
   "cell_type": "code",
   "execution_count": 370,
   "id": "e73e7f60-a4e6-4b98-afaa-890c4e9f713c",
   "metadata": {},
   "outputs": [
    {
     "name": "stdout",
     "output_type": "stream",
     "text": [
      "[ 6  8 10 12]\n",
      "[-4 -4 -4 -4]\n",
      "[ 5 12 21 32]\n",
      "[ 1  4  9 16]\n"
     ]
    }
   ],
   "source": [
    "a = np.array([1, 2, 3, 4])\n",
    "b = np.array([5, 6, 7, 8])\n",
    "print(a + b)\n",
    "print(a - b)\n",
    "print(a * b)\n",
    "print(a**2) # power"
   ]
  },
  {
   "cell_type": "code",
   "execution_count": 374,
   "id": "d90def56-5376-4cb9-ac25-af3aa257ea6c",
   "metadata": {},
   "outputs": [
    {
     "name": "stdout",
     "output_type": "stream",
     "text": [
      "4\n"
     ]
    }
   ],
   "source": [
    "print(a[-1])"
   ]
  },
  {
   "cell_type": "code",
   "execution_count": 378,
   "id": "d3dfaa3b-26c7-47ef-a8a1-e69e6b359b81",
   "metadata": {},
   "outputs": [
    {
     "name": "stdout",
     "output_type": "stream",
     "text": [
      "[[ 0  1  2  3]\n",
      " [ 4  5  6  7]\n",
      " [ 8  9 10 11]]\n"
     ]
    }
   ],
   "source": [
    "a = np.arange(12) \n",
    "print(a.reshape(3,4))"
   ]
  },
  {
   "cell_type": "code",
   "execution_count": 382,
   "id": "ec593572-8021-443b-b438-26213f085bab",
   "metadata": {},
   "outputs": [],
   "source": [
    "arr1 = np.array([1, 2, 3])\n",
    "arr2 = np.array([4, 5, 6])"
   ]
  },
  {
   "cell_type": "code",
   "execution_count": 386,
   "id": "5f58b031-e6b5-4d7f-b819-32274fa9afea",
   "metadata": {},
   "outputs": [
    {
     "data": {
      "text/plain": [
       "array([[1, 2, 3],\n",
       "       [4, 5, 6]])"
      ]
     },
     "execution_count": 386,
     "metadata": {},
     "output_type": "execute_result"
    }
   ],
   "source": [
    "np.vstack([arr1, arr2])"
   ]
  },
  {
   "cell_type": "code",
   "execution_count": 388,
   "id": "04f36c34-712b-4f17-bc6d-23ebe514707b",
   "metadata": {},
   "outputs": [
    {
     "data": {
      "text/plain": [
       "array([1, 2, 3, 4, 5, 6])"
      ]
     },
     "execution_count": 388,
     "metadata": {},
     "output_type": "execute_result"
    }
   ],
   "source": [
    "np.hstack([arr1, arr2])"
   ]
  },
  {
   "cell_type": "code",
   "execution_count": 390,
   "id": "8eb4d30d-af5e-4641-a899-f691048d13eb",
   "metadata": {},
   "outputs": [],
   "source": [
    "import pandas as pd "
   ]
  },
  {
   "cell_type": "code",
   "execution_count": 392,
   "id": "8dfd13d9-1ed2-4909-9d8f-e3a491f9cbc7",
   "metadata": {},
   "outputs": [],
   "source": [
    "s1 = pd.Series([1, 2, 3, 4, 5])\n",
    "s2 = pd.Series([10, 20, 30], index=['a', 'b', 'c'])\n",
    "s3 = pd.Series({'x': 100, 'y': 200, 'z': 300})"
   ]
  },
  {
   "cell_type": "code",
   "execution_count": 424,
   "id": "6e14fd27-d836-4078-b77d-334f1d06fe7c",
   "metadata": {},
   "outputs": [
    {
     "name": "stdout",
     "output_type": "stream",
     "text": [
      "30\n",
      "10\n",
      "a    10\n",
      "b    20\n",
      "dtype: int64\n",
      "b    20\n",
      "c    30\n",
      "dtype: int64\n"
     ]
    }
   ],
   "source": [
    "#Access by position, Series is 1D data\n",
    "print(s2.iloc[2])\n",
    "#Access by index\n",
    "print(s2['a'])\n",
    "print(s2['a':'b'])\n",
    "print(s2[s2>10])"
   ]
  },
  {
   "cell_type": "code",
   "execution_count": 498,
   "id": "141108c3-ef56-43f4-afea-fb9002809bdf",
   "metadata": {},
   "outputs": [
    {
     "data": {
      "text/html": [
       "<div>\n",
       "<style scoped>\n",
       "    .dataframe tbody tr th:only-of-type {\n",
       "        vertical-align: middle;\n",
       "    }\n",
       "\n",
       "    .dataframe tbody tr th {\n",
       "        vertical-align: top;\n",
       "    }\n",
       "\n",
       "    .dataframe thead th {\n",
       "        text-align: right;\n",
       "    }\n",
       "</style>\n",
       "<table border=\"1\" class=\"dataframe\">\n",
       "  <thead>\n",
       "    <tr style=\"text-align: right;\">\n",
       "      <th></th>\n",
       "      <th>Name</th>\n",
       "      <th>Age</th>\n",
       "      <th>City</th>\n",
       "    </tr>\n",
       "  </thead>\n",
       "  <tbody>\n",
       "    <tr>\n",
       "      <th>0</th>\n",
       "      <td>Chris</td>\n",
       "      <td>25</td>\n",
       "      <td>Sydney</td>\n",
       "    </tr>\n",
       "    <tr>\n",
       "      <th>1</th>\n",
       "      <td>Bob</td>\n",
       "      <td>30</td>\n",
       "      <td>London</td>\n",
       "    </tr>\n",
       "  </tbody>\n",
       "</table>\n",
       "</div>"
      ],
      "text/plain": [
       "    Name  Age    City\n",
       "0  Chris   25  Sydney\n",
       "1    Bob   30  London"
      ]
     },
     "execution_count": 498,
     "metadata": {},
     "output_type": "execute_result"
    }
   ],
   "source": [
    "# DataFrame - 2D data\n",
    "data = [['Chris', 25, 'Sydney'], ['Bob', 30, 'London']]\n",
    "data_frame = pd.DataFrame(data, columns=['Name', 'Age', 'City'])\n",
    "data_frame"
   ]
  },
  {
   "cell_type": "code",
   "execution_count": 500,
   "id": "ba029f51-a239-41d1-a156-647ffff4e8a2",
   "metadata": {},
   "outputs": [
    {
     "data": {
      "text/plain": [
       "(2, 3)"
      ]
     },
     "execution_count": 500,
     "metadata": {},
     "output_type": "execute_result"
    }
   ],
   "source": [
    "data_frame.shape"
   ]
  },
  {
   "cell_type": "code",
   "execution_count": 502,
   "id": "5c890bb0-276e-4956-b998-9c905fd73e99",
   "metadata": {},
   "outputs": [
    {
     "data": {
      "text/plain": [
       "['Name', 'Age', 'City']"
      ]
     },
     "execution_count": 502,
     "metadata": {},
     "output_type": "execute_result"
    }
   ],
   "source": [
    "data_frame.columns.tolist()"
   ]
  },
  {
   "cell_type": "code",
   "execution_count": 504,
   "id": "d1cc2f2e-2dbc-45af-ba35-52fd9ba1896e",
   "metadata": {},
   "outputs": [
    {
     "data": {
      "text/plain": [
       "[0, 1]"
      ]
     },
     "execution_count": 504,
     "metadata": {},
     "output_type": "execute_result"
    }
   ],
   "source": [
    "data_frame.index.tolist()"
   ]
  },
  {
   "cell_type": "code",
   "execution_count": 506,
   "id": "8956a179-dfea-4434-804d-fa9a0c243062",
   "metadata": {},
   "outputs": [
    {
     "data": {
      "text/plain": [
       "Name     Chris\n",
       "Age         25\n",
       "City    Sydney\n",
       "Name: 0, dtype: object"
      ]
     },
     "execution_count": 506,
     "metadata": {},
     "output_type": "execute_result"
    }
   ],
   "source": [
    "# First row\n",
    "data_frame.iloc[0]"
   ]
  },
  {
   "cell_type": "code",
   "execution_count": 508,
   "id": "28c0f3bc-b159-49f4-adeb-238daf93d4ec",
   "metadata": {},
   "outputs": [
    {
     "data": {
      "text/plain": [
       "Name     Chris\n",
       "Age         25\n",
       "City    Sydney\n",
       "Name: 0, dtype: object"
      ]
     },
     "execution_count": 508,
     "metadata": {},
     "output_type": "execute_result"
    }
   ],
   "source": [
    "# row by index \n",
    "data_frame.loc[0]"
   ]
  },
  {
   "cell_type": "code",
   "execution_count": 510,
   "id": "39be1ad8-17dc-476d-a40e-f44501d8776d",
   "metadata": {},
   "outputs": [
    {
     "data": {
      "text/html": [
       "<div>\n",
       "<style scoped>\n",
       "    .dataframe tbody tr th:only-of-type {\n",
       "        vertical-align: middle;\n",
       "    }\n",
       "\n",
       "    .dataframe tbody tr th {\n",
       "        vertical-align: top;\n",
       "    }\n",
       "\n",
       "    .dataframe thead th {\n",
       "        text-align: right;\n",
       "    }\n",
       "</style>\n",
       "<table border=\"1\" class=\"dataframe\">\n",
       "  <thead>\n",
       "    <tr style=\"text-align: right;\">\n",
       "      <th></th>\n",
       "      <th>Name</th>\n",
       "      <th>Age</th>\n",
       "      <th>City</th>\n",
       "    </tr>\n",
       "  </thead>\n",
       "  <tbody>\n",
       "    <tr>\n",
       "      <th>1</th>\n",
       "      <td>Bob</td>\n",
       "      <td>30</td>\n",
       "      <td>London</td>\n",
       "    </tr>\n",
       "  </tbody>\n",
       "</table>\n",
       "</div>"
      ],
      "text/plain": [
       "  Name  Age    City\n",
       "1  Bob   30  London"
      ]
     },
     "execution_count": 510,
     "metadata": {},
     "output_type": "execute_result"
    }
   ],
   "source": [
    "# Conditional Selection \n",
    "data_frame[data_frame['Age']>25]"
   ]
  },
  {
   "cell_type": "code",
   "execution_count": 512,
   "id": "d3743407-c6e8-4849-abed-3bdd933be411",
   "metadata": {},
   "outputs": [],
   "source": [
    "data_frame.loc[data_frame['Name'] == 'Chris', 'City'] = 'Parramatta'"
   ]
  },
  {
   "cell_type": "code",
   "execution_count": 514,
   "id": "83be4063-00f8-42c0-8c48-5a8808b23b44",
   "metadata": {},
   "outputs": [
    {
     "data": {
      "text/html": [
       "<div>\n",
       "<style scoped>\n",
       "    .dataframe tbody tr th:only-of-type {\n",
       "        vertical-align: middle;\n",
       "    }\n",
       "\n",
       "    .dataframe tbody tr th {\n",
       "        vertical-align: top;\n",
       "    }\n",
       "\n",
       "    .dataframe thead th {\n",
       "        text-align: right;\n",
       "    }\n",
       "</style>\n",
       "<table border=\"1\" class=\"dataframe\">\n",
       "  <thead>\n",
       "    <tr style=\"text-align: right;\">\n",
       "      <th></th>\n",
       "      <th>Name</th>\n",
       "      <th>Age</th>\n",
       "      <th>City</th>\n",
       "    </tr>\n",
       "  </thead>\n",
       "  <tbody>\n",
       "    <tr>\n",
       "      <th>0</th>\n",
       "      <td>Chris</td>\n",
       "      <td>25</td>\n",
       "      <td>Parramatta</td>\n",
       "    </tr>\n",
       "    <tr>\n",
       "      <th>1</th>\n",
       "      <td>Bob</td>\n",
       "      <td>30</td>\n",
       "      <td>London</td>\n",
       "    </tr>\n",
       "  </tbody>\n",
       "</table>\n",
       "</div>"
      ],
      "text/plain": [
       "    Name  Age        City\n",
       "0  Chris   25  Parramatta\n",
       "1    Bob   30      London"
      ]
     },
     "execution_count": 514,
     "metadata": {},
     "output_type": "execute_result"
    }
   ],
   "source": [
    "data_frame"
   ]
  },
  {
   "cell_type": "code",
   "execution_count": 524,
   "id": "09c57759-94a7-4868-956b-8a5df8f04d90",
   "metadata": {},
   "outputs": [],
   "source": [
    "data_frame = data_frame.rename(columns = {'Name': 'name', 'Age': 'age'})"
   ]
  },
  {
   "cell_type": "code",
   "execution_count": 526,
   "id": "46f361f1-938e-43ee-b8c0-166ac1eb5782",
   "metadata": {},
   "outputs": [
    {
     "data": {
      "text/html": [
       "<div>\n",
       "<style scoped>\n",
       "    .dataframe tbody tr th:only-of-type {\n",
       "        vertical-align: middle;\n",
       "    }\n",
       "\n",
       "    .dataframe tbody tr th {\n",
       "        vertical-align: top;\n",
       "    }\n",
       "\n",
       "    .dataframe thead th {\n",
       "        text-align: right;\n",
       "    }\n",
       "</style>\n",
       "<table border=\"1\" class=\"dataframe\">\n",
       "  <thead>\n",
       "    <tr style=\"text-align: right;\">\n",
       "      <th></th>\n",
       "      <th>name</th>\n",
       "      <th>age</th>\n",
       "      <th>City</th>\n",
       "    </tr>\n",
       "  </thead>\n",
       "  <tbody>\n",
       "    <tr>\n",
       "      <th>0</th>\n",
       "      <td>Chris</td>\n",
       "      <td>25</td>\n",
       "      <td>Parramatta</td>\n",
       "    </tr>\n",
       "    <tr>\n",
       "      <th>1</th>\n",
       "      <td>Bob</td>\n",
       "      <td>30</td>\n",
       "      <td>London</td>\n",
       "    </tr>\n",
       "  </tbody>\n",
       "</table>\n",
       "</div>"
      ],
      "text/plain": [
       "    name  age        City\n",
       "0  Chris   25  Parramatta\n",
       "1    Bob   30      London"
      ]
     },
     "execution_count": 526,
     "metadata": {},
     "output_type": "execute_result"
    }
   ],
   "source": [
    "data_frame"
   ]
  },
  {
   "cell_type": "code",
   "execution_count": 530,
   "id": "df4b7e39-7117-427a-ba49-7574931aa498",
   "metadata": {},
   "outputs": [],
   "source": [
    "data = pd.read_csv(\"car_data.csv\")"
   ]
  },
  {
   "cell_type": "code",
   "execution_count": 532,
   "id": "b61a14a3-08e7-4945-8fe8-1dbc3c44d662",
   "metadata": {},
   "outputs": [
    {
     "data": {
      "text/html": [
       "<div>\n",
       "<style scoped>\n",
       "    .dataframe tbody tr th:only-of-type {\n",
       "        vertical-align: middle;\n",
       "    }\n",
       "\n",
       "    .dataframe tbody tr th {\n",
       "        vertical-align: top;\n",
       "    }\n",
       "\n",
       "    .dataframe thead th {\n",
       "        text-align: right;\n",
       "    }\n",
       "</style>\n",
       "<table border=\"1\" class=\"dataframe\">\n",
       "  <thead>\n",
       "    <tr style=\"text-align: right;\">\n",
       "      <th></th>\n",
       "      <th>Car_Name</th>\n",
       "      <th>Year</th>\n",
       "      <th>Selling_Price</th>\n",
       "      <th>Present_Price</th>\n",
       "      <th>Kms_Driven</th>\n",
       "      <th>Fuel_Type</th>\n",
       "      <th>Seller_Type</th>\n",
       "      <th>Transmission</th>\n",
       "      <th>Owner</th>\n",
       "    </tr>\n",
       "  </thead>\n",
       "  <tbody>\n",
       "    <tr>\n",
       "      <th>0</th>\n",
       "      <td>ritz</td>\n",
       "      <td>2014</td>\n",
       "      <td>3.35</td>\n",
       "      <td>5.59</td>\n",
       "      <td>27000</td>\n",
       "      <td>Petrol</td>\n",
       "      <td>Dealer</td>\n",
       "      <td>Manual</td>\n",
       "      <td>0</td>\n",
       "    </tr>\n",
       "    <tr>\n",
       "      <th>1</th>\n",
       "      <td>sx4</td>\n",
       "      <td>2013</td>\n",
       "      <td>4.75</td>\n",
       "      <td>9.54</td>\n",
       "      <td>43000</td>\n",
       "      <td>Diesel</td>\n",
       "      <td>Dealer</td>\n",
       "      <td>Manual</td>\n",
       "      <td>0</td>\n",
       "    </tr>\n",
       "    <tr>\n",
       "      <th>2</th>\n",
       "      <td>ciaz</td>\n",
       "      <td>2017</td>\n",
       "      <td>7.25</td>\n",
       "      <td>9.85</td>\n",
       "      <td>6900</td>\n",
       "      <td>Petrol</td>\n",
       "      <td>Dealer</td>\n",
       "      <td>Manual</td>\n",
       "      <td>0</td>\n",
       "    </tr>\n",
       "    <tr>\n",
       "      <th>3</th>\n",
       "      <td>wagon r</td>\n",
       "      <td>2011</td>\n",
       "      <td>2.85</td>\n",
       "      <td>4.15</td>\n",
       "      <td>5200</td>\n",
       "      <td>Petrol</td>\n",
       "      <td>Dealer</td>\n",
       "      <td>Manual</td>\n",
       "      <td>0</td>\n",
       "    </tr>\n",
       "    <tr>\n",
       "      <th>4</th>\n",
       "      <td>swift</td>\n",
       "      <td>2014</td>\n",
       "      <td>4.60</td>\n",
       "      <td>6.87</td>\n",
       "      <td>42450</td>\n",
       "      <td>Diesel</td>\n",
       "      <td>Dealer</td>\n",
       "      <td>Manual</td>\n",
       "      <td>0</td>\n",
       "    </tr>\n",
       "  </tbody>\n",
       "</table>\n",
       "</div>"
      ],
      "text/plain": [
       "  Car_Name  Year  Selling_Price  Present_Price  Kms_Driven Fuel_Type  \\\n",
       "0     ritz  2014           3.35           5.59       27000    Petrol   \n",
       "1      sx4  2013           4.75           9.54       43000    Diesel   \n",
       "2     ciaz  2017           7.25           9.85        6900    Petrol   \n",
       "3  wagon r  2011           2.85           4.15        5200    Petrol   \n",
       "4    swift  2014           4.60           6.87       42450    Diesel   \n",
       "\n",
       "  Seller_Type Transmission  Owner  \n",
       "0      Dealer       Manual      0  \n",
       "1      Dealer       Manual      0  \n",
       "2      Dealer       Manual      0  \n",
       "3      Dealer       Manual      0  \n",
       "4      Dealer       Manual      0  "
      ]
     },
     "execution_count": 532,
     "metadata": {},
     "output_type": "execute_result"
    }
   ],
   "source": [
    "data.head()"
   ]
  },
  {
   "cell_type": "code",
   "execution_count": 534,
   "id": "d0c09caf-3510-4d44-9536-283d973df697",
   "metadata": {},
   "outputs": [
    {
     "data": {
      "text/html": [
       "<div>\n",
       "<style scoped>\n",
       "    .dataframe tbody tr th:only-of-type {\n",
       "        vertical-align: middle;\n",
       "    }\n",
       "\n",
       "    .dataframe tbody tr th {\n",
       "        vertical-align: top;\n",
       "    }\n",
       "\n",
       "    .dataframe thead th {\n",
       "        text-align: right;\n",
       "    }\n",
       "</style>\n",
       "<table border=\"1\" class=\"dataframe\">\n",
       "  <thead>\n",
       "    <tr style=\"text-align: right;\">\n",
       "      <th></th>\n",
       "      <th>Car_Name</th>\n",
       "      <th>Year</th>\n",
       "      <th>Selling_Price</th>\n",
       "      <th>Present_Price</th>\n",
       "      <th>Kms_Driven</th>\n",
       "      <th>Fuel_Type</th>\n",
       "      <th>Seller_Type</th>\n",
       "      <th>Transmission</th>\n",
       "      <th>Owner</th>\n",
       "    </tr>\n",
       "  </thead>\n",
       "  <tbody>\n",
       "    <tr>\n",
       "      <th>1</th>\n",
       "      <td>sx4</td>\n",
       "      <td>2013</td>\n",
       "      <td>4.75</td>\n",
       "      <td>9.54</td>\n",
       "      <td>43000</td>\n",
       "      <td>Diesel</td>\n",
       "      <td>Dealer</td>\n",
       "      <td>Manual</td>\n",
       "      <td>0</td>\n",
       "    </tr>\n",
       "    <tr>\n",
       "      <th>2</th>\n",
       "      <td>ciaz</td>\n",
       "      <td>2017</td>\n",
       "      <td>7.25</td>\n",
       "      <td>9.85</td>\n",
       "      <td>6900</td>\n",
       "      <td>Petrol</td>\n",
       "      <td>Dealer</td>\n",
       "      <td>Manual</td>\n",
       "      <td>0</td>\n",
       "    </tr>\n",
       "    <tr>\n",
       "      <th>4</th>\n",
       "      <td>swift</td>\n",
       "      <td>2014</td>\n",
       "      <td>4.60</td>\n",
       "      <td>6.87</td>\n",
       "      <td>42450</td>\n",
       "      <td>Diesel</td>\n",
       "      <td>Dealer</td>\n",
       "      <td>Manual</td>\n",
       "      <td>0</td>\n",
       "    </tr>\n",
       "    <tr>\n",
       "      <th>5</th>\n",
       "      <td>vitara brezza</td>\n",
       "      <td>2018</td>\n",
       "      <td>9.25</td>\n",
       "      <td>9.83</td>\n",
       "      <td>2071</td>\n",
       "      <td>Diesel</td>\n",
       "      <td>Dealer</td>\n",
       "      <td>Manual</td>\n",
       "      <td>0</td>\n",
       "    </tr>\n",
       "    <tr>\n",
       "      <th>6</th>\n",
       "      <td>ciaz</td>\n",
       "      <td>2015</td>\n",
       "      <td>6.75</td>\n",
       "      <td>8.12</td>\n",
       "      <td>18796</td>\n",
       "      <td>Petrol</td>\n",
       "      <td>Dealer</td>\n",
       "      <td>Manual</td>\n",
       "      <td>0</td>\n",
       "    </tr>\n",
       "    <tr>\n",
       "      <th>...</th>\n",
       "      <td>...</td>\n",
       "      <td>...</td>\n",
       "      <td>...</td>\n",
       "      <td>...</td>\n",
       "      <td>...</td>\n",
       "      <td>...</td>\n",
       "      <td>...</td>\n",
       "      <td>...</td>\n",
       "      <td>...</td>\n",
       "    </tr>\n",
       "    <tr>\n",
       "      <th>291</th>\n",
       "      <td>brio</td>\n",
       "      <td>2015</td>\n",
       "      <td>5.40</td>\n",
       "      <td>6.10</td>\n",
       "      <td>31427</td>\n",
       "      <td>Petrol</td>\n",
       "      <td>Dealer</td>\n",
       "      <td>Manual</td>\n",
       "      <td>0</td>\n",
       "    </tr>\n",
       "    <tr>\n",
       "      <th>292</th>\n",
       "      <td>jazz</td>\n",
       "      <td>2016</td>\n",
       "      <td>6.40</td>\n",
       "      <td>8.40</td>\n",
       "      <td>12000</td>\n",
       "      <td>Petrol</td>\n",
       "      <td>Dealer</td>\n",
       "      <td>Manual</td>\n",
       "      <td>0</td>\n",
       "    </tr>\n",
       "    <tr>\n",
       "      <th>294</th>\n",
       "      <td>amaze</td>\n",
       "      <td>2014</td>\n",
       "      <td>3.75</td>\n",
       "      <td>6.80</td>\n",
       "      <td>33019</td>\n",
       "      <td>Petrol</td>\n",
       "      <td>Dealer</td>\n",
       "      <td>Manual</td>\n",
       "      <td>0</td>\n",
       "    </tr>\n",
       "    <tr>\n",
       "      <th>297</th>\n",
       "      <td>brio</td>\n",
       "      <td>2015</td>\n",
       "      <td>4.00</td>\n",
       "      <td>5.90</td>\n",
       "      <td>60000</td>\n",
       "      <td>Petrol</td>\n",
       "      <td>Dealer</td>\n",
       "      <td>Manual</td>\n",
       "      <td>0</td>\n",
       "    </tr>\n",
       "    <tr>\n",
       "      <th>300</th>\n",
       "      <td>brio</td>\n",
       "      <td>2016</td>\n",
       "      <td>5.30</td>\n",
       "      <td>5.90</td>\n",
       "      <td>5464</td>\n",
       "      <td>Petrol</td>\n",
       "      <td>Dealer</td>\n",
       "      <td>Manual</td>\n",
       "      <td>0</td>\n",
       "    </tr>\n",
       "  </tbody>\n",
       "</table>\n",
       "<p>91 rows × 9 columns</p>\n",
       "</div>"
      ],
      "text/plain": [
       "          Car_Name  Year  Selling_Price  Present_Price  Kms_Driven Fuel_Type  \\\n",
       "1              sx4  2013           4.75           9.54       43000    Diesel   \n",
       "2             ciaz  2017           7.25           9.85        6900    Petrol   \n",
       "4            swift  2014           4.60           6.87       42450    Diesel   \n",
       "5    vitara brezza  2018           9.25           9.83        2071    Diesel   \n",
       "6             ciaz  2015           6.75           8.12       18796    Petrol   \n",
       "..             ...   ...            ...            ...         ...       ...   \n",
       "291           brio  2015           5.40           6.10       31427    Petrol   \n",
       "292           jazz  2016           6.40           8.40       12000    Petrol   \n",
       "294          amaze  2014           3.75           6.80       33019    Petrol   \n",
       "297           brio  2015           4.00           5.90       60000    Petrol   \n",
       "300           brio  2016           5.30           5.90        5464    Petrol   \n",
       "\n",
       "    Seller_Type Transmission  Owner  \n",
       "1        Dealer       Manual      0  \n",
       "2        Dealer       Manual      0  \n",
       "4        Dealer       Manual      0  \n",
       "5        Dealer       Manual      0  \n",
       "6        Dealer       Manual      0  \n",
       "..          ...          ...    ...  \n",
       "291      Dealer       Manual      0  \n",
       "292      Dealer       Manual      0  \n",
       "294      Dealer       Manual      0  \n",
       "297      Dealer       Manual      0  \n",
       "300      Dealer       Manual      0  \n",
       "\n",
       "[91 rows x 9 columns]"
      ]
     },
     "execution_count": 534,
     "metadata": {},
     "output_type": "execute_result"
    }
   ],
   "source": [
    "data[(data['Selling_Price']>3.35) & (data['Present_Price'] < 10)]"
   ]
  },
  {
   "cell_type": "code",
   "execution_count": 536,
   "id": "0e35f971-1232-4e4d-974f-bbca817f840d",
   "metadata": {},
   "outputs": [],
   "source": [
    "data['random'] = data['Selling_Price'] + data['Present_Price'] "
   ]
  },
  {
   "cell_type": "code",
   "execution_count": 538,
   "id": "57d147f6-feff-4b03-a669-166407a95168",
   "metadata": {},
   "outputs": [
    {
     "data": {
      "text/html": [
       "<div>\n",
       "<style scoped>\n",
       "    .dataframe tbody tr th:only-of-type {\n",
       "        vertical-align: middle;\n",
       "    }\n",
       "\n",
       "    .dataframe tbody tr th {\n",
       "        vertical-align: top;\n",
       "    }\n",
       "\n",
       "    .dataframe thead th {\n",
       "        text-align: right;\n",
       "    }\n",
       "</style>\n",
       "<table border=\"1\" class=\"dataframe\">\n",
       "  <thead>\n",
       "    <tr style=\"text-align: right;\">\n",
       "      <th></th>\n",
       "      <th>Car_Name</th>\n",
       "      <th>Year</th>\n",
       "      <th>Selling_Price</th>\n",
       "      <th>Present_Price</th>\n",
       "      <th>Kms_Driven</th>\n",
       "      <th>Fuel_Type</th>\n",
       "      <th>Seller_Type</th>\n",
       "      <th>Transmission</th>\n",
       "      <th>Owner</th>\n",
       "      <th>random</th>\n",
       "    </tr>\n",
       "  </thead>\n",
       "  <tbody>\n",
       "    <tr>\n",
       "      <th>200</th>\n",
       "      <td>Bajaj Pulsar 150</td>\n",
       "      <td>2006</td>\n",
       "      <td>0.10</td>\n",
       "      <td>0.75</td>\n",
       "      <td>92233</td>\n",
       "      <td>Petrol</td>\n",
       "      <td>Individual</td>\n",
       "      <td>Manual</td>\n",
       "      <td>0</td>\n",
       "      <td>0.85</td>\n",
       "    </tr>\n",
       "    <tr>\n",
       "      <th>199</th>\n",
       "      <td>Honda CB Shine</td>\n",
       "      <td>2007</td>\n",
       "      <td>0.12</td>\n",
       "      <td>0.58</td>\n",
       "      <td>53000</td>\n",
       "      <td>Petrol</td>\n",
       "      <td>Individual</td>\n",
       "      <td>Manual</td>\n",
       "      <td>0</td>\n",
       "      <td>0.70</td>\n",
       "    </tr>\n",
       "    <tr>\n",
       "      <th>198</th>\n",
       "      <td>Bajaj Discover 125</td>\n",
       "      <td>2011</td>\n",
       "      <td>0.15</td>\n",
       "      <td>0.57</td>\n",
       "      <td>35000</td>\n",
       "      <td>Petrol</td>\n",
       "      <td>Individual</td>\n",
       "      <td>Manual</td>\n",
       "      <td>1</td>\n",
       "      <td>0.72</td>\n",
       "    </tr>\n",
       "    <tr>\n",
       "      <th>197</th>\n",
       "      <td>Honda CB twister</td>\n",
       "      <td>2010</td>\n",
       "      <td>0.16</td>\n",
       "      <td>0.51</td>\n",
       "      <td>33000</td>\n",
       "      <td>Petrol</td>\n",
       "      <td>Individual</td>\n",
       "      <td>Manual</td>\n",
       "      <td>0</td>\n",
       "      <td>0.67</td>\n",
       "    </tr>\n",
       "    <tr>\n",
       "      <th>196</th>\n",
       "      <td>Activa 3g</td>\n",
       "      <td>2008</td>\n",
       "      <td>0.17</td>\n",
       "      <td>0.52</td>\n",
       "      <td>500000</td>\n",
       "      <td>Petrol</td>\n",
       "      <td>Individual</td>\n",
       "      <td>Automatic</td>\n",
       "      <td>0</td>\n",
       "      <td>0.69</td>\n",
       "    </tr>\n",
       "  </tbody>\n",
       "</table>\n",
       "</div>"
      ],
      "text/plain": [
       "               Car_Name  Year  Selling_Price  Present_Price  Kms_Driven  \\\n",
       "200    Bajaj Pulsar 150  2006           0.10           0.75       92233   \n",
       "199      Honda CB Shine  2007           0.12           0.58       53000   \n",
       "198  Bajaj Discover 125  2011           0.15           0.57       35000   \n",
       "197    Honda CB twister  2010           0.16           0.51       33000   \n",
       "196           Activa 3g  2008           0.17           0.52      500000   \n",
       "\n",
       "    Fuel_Type Seller_Type Transmission  Owner  random  \n",
       "200    Petrol  Individual       Manual      0    0.85  \n",
       "199    Petrol  Individual       Manual      0    0.70  \n",
       "198    Petrol  Individual       Manual      1    0.72  \n",
       "197    Petrol  Individual       Manual      0    0.67  \n",
       "196    Petrol  Individual    Automatic      0    0.69  "
      ]
     },
     "execution_count": 538,
     "metadata": {},
     "output_type": "execute_result"
    }
   ],
   "source": [
    "data.sort_values('Selling_Price').head(5)"
   ]
  },
  {
   "cell_type": "code",
   "execution_count": 544,
   "id": "092b5811-5c41-41f1-876d-606b8928ee01",
   "metadata": {},
   "outputs": [
    {
     "name": "stdout",
     "output_type": "stream",
     "text": [
      "3\n",
      "4\n",
      "5\n",
      "6\n",
      "7\n",
      "8\n",
      "9\n",
      "10\n",
      "11\n",
      "12\n",
      "13\n",
      "14\n"
     ]
    }
   ],
   "source": [
    "for i in range(3,15,1):\n",
    "    print(i)"
   ]
  },
  {
   "cell_type": "code",
   "execution_count": null,
   "id": "7d9e9885-2ecf-4943-879a-abc70408ea57",
   "metadata": {},
   "outputs": [],
   "source": []
  },
  {
   "cell_type": "code",
   "execution_count": null,
   "id": "1f6c5efb-dbbb-4353-97f7-53c22ee2bc6b",
   "metadata": {},
   "outputs": [],
   "source": []
  },
  {
   "cell_type": "code",
   "execution_count": null,
   "id": "2f0b500f-449c-43d0-9ecc-7db74dab61ee",
   "metadata": {},
   "outputs": [],
   "source": []
  },
  {
   "cell_type": "code",
   "execution_count": null,
   "id": "072bcb97-87fe-466a-9a06-e03fb0e38bb3",
   "metadata": {},
   "outputs": [],
   "source": []
  },
  {
   "cell_type": "code",
   "execution_count": null,
   "id": "a7aac841-a319-4d98-bba6-351414377904",
   "metadata": {},
   "outputs": [],
   "source": []
  },
  {
   "cell_type": "code",
   "execution_count": null,
   "id": "6df9e360-5330-4ccb-a161-8c3e41d3753a",
   "metadata": {},
   "outputs": [],
   "source": []
  },
  {
   "cell_type": "code",
   "execution_count": null,
   "id": "a60c863d-dbc5-475f-bc68-0850dd9d54dd",
   "metadata": {},
   "outputs": [],
   "source": []
  },
  {
   "cell_type": "code",
   "execution_count": null,
   "id": "4a7cd0fe-9680-48d6-a5df-43524b9ce05e",
   "metadata": {},
   "outputs": [],
   "source": []
  },
  {
   "cell_type": "code",
   "execution_count": null,
   "id": "0d2333d9-c8e9-41f8-a89b-368916fe3595",
   "metadata": {},
   "outputs": [],
   "source": []
  }
 ],
 "metadata": {
  "kernelspec": {
   "display_name": "env",
   "language": "python",
   "name": "env"
  },
  "language_info": {
   "codemirror_mode": {
    "name": "ipython",
    "version": 3
   },
   "file_extension": ".py",
   "mimetype": "text/x-python",
   "name": "python",
   "nbconvert_exporter": "python",
   "pygments_lexer": "ipython3",
   "version": "3.9.21"
  }
 },
 "nbformat": 4,
 "nbformat_minor": 5
}
